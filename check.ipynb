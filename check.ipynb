{
 "metadata": {
  "language_info": {
   "codemirror_mode": {
    "name": "ipython",
    "version": 3
   },
   "file_extension": ".py",
   "mimetype": "text/x-python",
   "name": "python",
   "nbconvert_exporter": "python",
   "pygments_lexer": "ipython3",
   "version": "3.7.6-final"
  },
  "orig_nbformat": 2,
  "kernelspec": {
   "name": "python3",
   "display_name": "Python 3"
  }
 },
 "nbformat": 4,
 "nbformat_minor": 2,
 "cells": [
  {
   "cell_type": "code",
   "execution_count": 6,
   "metadata": {},
   "outputs": [],
   "source": [
    "import numpy as np\n",
    "from scipy.sparse import dia_matrix, bmat"
   ]
  },
  {
   "cell_type": "code",
   "execution_count": 7,
   "metadata": {},
   "outputs": [],
   "source": [
    "data=[1,2,3,4]\n",
    "offsets=[0]\n",
    "A = dia_matrix((data,offsets),shape=(4,4))\n",
    "B = dia_matrix((data,offsets),shape=(4,4))\n",
    "C = dia_matrix((data,offsets),shape=(4,4))\n",
    "D = dia_matrix((data,offsets),shape=(4,4))"
   ]
  },
  {
   "cell_type": "code",
   "execution_count": 10,
   "metadata": {},
   "outputs": [
    {
     "output_type": "execute_result",
     "data": {
      "text/plain": [
       "matrix([[2, 1, 1, 1, 2, 1, 1, 1],\n",
       "        [1, 3, 1, 1, 1, 3, 1, 1],\n",
       "        [1, 1, 4, 1, 1, 1, 4, 1],\n",
       "        [1, 1, 1, 5, 1, 1, 1, 5],\n",
       "        [2, 1, 1, 1, 2, 1, 1, 1],\n",
       "        [1, 3, 1, 1, 1, 3, 1, 1],\n",
       "        [1, 1, 4, 1, 1, 1, 4, 1],\n",
       "        [1, 1, 1, 5, 1, 1, 1, 5]])"
      ]
     },
     "metadata": {},
     "execution_count": 10
    }
   ],
   "source": [
    "bmat([[A,B],[C,D]]) + np.array([1])"
   ]
  },
  {
   "cell_type": "code",
   "execution_count": null,
   "metadata": {},
   "outputs": [],
   "source": []
  }
 ]
}